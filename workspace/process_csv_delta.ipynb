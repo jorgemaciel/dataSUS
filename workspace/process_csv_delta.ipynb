{
 "cells": [
  {
   "cell_type": "code",
   "execution_count": 2,
   "id": "f38fbe4f-186f-457c-bf50-90e3ceaf93b7",
   "metadata": {},
   "outputs": [],
   "source": [
    "from pyspark.sql import SparkSession"
   ]
  },
  {
   "cell_type": "code",
   "execution_count": 3,
   "id": "c711ddf5-2b14-4f0c-b194-933611af7371",
   "metadata": {},
   "outputs": [
    {
     "name": "stderr",
     "output_type": "stream",
     "text": [
      "/opt/spark/bin/load-spark-env.sh: line 68: ps: command not found\n"
     ]
    },
    {
     "name": "stdout",
     "output_type": "stream",
     "text": [
      ":: loading settings :: url = jar:file:/opt/spark/jars/ivy-2.5.1.jar!/org/apache/ivy/core/settings/ivysettings.xml\n"
     ]
    },
    {
     "name": "stderr",
     "output_type": "stream",
     "text": [
      "Ivy Default Cache set to: /root/.ivy2/cache\n",
      "The jars for the packages stored in: /root/.ivy2/jars\n",
      "software.amazon.awssdk#s3 added as a dependency\n",
      "org.apache.hadoop#hadoop-aws added as a dependency\n",
      "io.delta#delta-spark_2.12 added as a dependency\n",
      ":: resolving dependencies :: org.apache.spark#spark-submit-parent-d1945472-9484-445b-9c3e-9cd93f365ca8;1.0\n",
      "\tconfs: [default]\n",
      "\tfound software.amazon.awssdk#s3;2.26.30 in central\n",
      "\tfound software.amazon.awssdk#aws-xml-protocol;2.26.30 in central\n",
      "\tfound software.amazon.awssdk#aws-query-protocol;2.26.30 in central\n",
      "\tfound software.amazon.awssdk#protocol-core;2.26.30 in central\n",
      "\tfound software.amazon.awssdk#sdk-core;2.26.30 in central\n",
      "\tfound software.amazon.awssdk#annotations;2.26.30 in central\n",
      "\tfound software.amazon.awssdk#http-client-spi;2.26.30 in central\n",
      "\tfound software.amazon.awssdk#utils;2.26.30 in central\n",
      "\tfound org.reactivestreams#reactive-streams;1.0.4 in central\n",
      "\tfound org.slf4j#slf4j-api;1.7.36 in central\n",
      "\tfound software.amazon.awssdk#metrics-spi;2.26.30 in central\n",
      "\tfound software.amazon.awssdk#endpoints-spi;2.26.30 in central\n",
      "\tfound software.amazon.awssdk#http-auth-spi;2.26.30 in central\n",
      "\tfound software.amazon.awssdk#identity-spi;2.26.30 in central\n",
      "\tfound software.amazon.awssdk#http-auth-aws;2.26.30 in central\n",
      "\tfound software.amazon.awssdk#checksums-spi;2.26.30 in central\n",
      "\tfound software.amazon.awssdk#checksums;2.26.30 in central\n",
      "\tfound software.amazon.awssdk#profiles;2.26.30 in central\n",
      "\tfound software.amazon.awssdk#retries-spi;2.26.30 in central\n",
      "\tfound software.amazon.awssdk#retries;2.26.30 in central\n",
      "\tfound software.amazon.awssdk#aws-core;2.26.30 in central\n",
      "\tfound software.amazon.awssdk#regions;2.26.30 in central\n",
      "\tfound software.amazon.awssdk#json-utils;2.26.30 in central\n",
      "\tfound software.amazon.awssdk#third-party-jackson-core;2.26.30 in central\n",
      "\tfound software.amazon.awssdk#auth;2.26.30 in central\n",
      "\tfound software.amazon.awssdk#http-auth-aws-eventstream;2.26.30 in central\n",
      "\tfound software.amazon.eventstream#eventstream;1.0.1 in central\n",
      "\tfound software.amazon.awssdk#http-auth;2.26.30 in central\n",
      "\tfound software.amazon.awssdk#arns;2.26.30 in central\n",
      "\tfound software.amazon.awssdk#crt-core;2.26.30 in central\n",
      "\tfound software.amazon.awssdk#apache-client;2.26.30 in central\n",
      "\tfound org.apache.httpcomponents#httpclient;4.5.13 in central\n",
      "\tfound org.apache.httpcomponents#httpcore;4.4.16 in central\n",
      "\tfound commons-logging#commons-logging;1.2 in central\n",
      "\tfound commons-codec#commons-codec;1.17.1 in central\n",
      "\tfound software.amazon.awssdk#netty-nio-client;2.26.30 in central\n",
      "\tfound io.netty#netty-codec-http;4.1.111.Final in central\n",
      "\tfound io.netty#netty-common;4.1.111.Final in central\n",
      "\tfound io.netty#netty-buffer;4.1.111.Final in central\n",
      "\tfound io.netty#netty-transport;4.1.111.Final in central\n",
      "\tfound io.netty#netty-resolver;4.1.111.Final in central\n",
      "\tfound io.netty#netty-codec;4.1.111.Final in central\n",
      "\tfound io.netty#netty-handler;4.1.111.Final in central\n",
      "\tfound io.netty#netty-transport-native-unix-common;4.1.111.Final in central\n",
      "\tfound io.netty#netty-codec-http2;4.1.111.Final in central\n",
      "\tfound io.netty#netty-transport-classes-epoll;4.1.111.Final in central\n",
      "\tfound org.apache.hadoop#hadoop-aws;3.3.4 in central\n",
      "\tfound com.amazonaws#aws-java-sdk-bundle;1.12.262 in central\n",
      "\tfound org.wildfly.openssl#wildfly-openssl;1.0.7.Final in central\n",
      "\tfound io.delta#delta-spark_2.12;3.2.0 in central\n",
      "\tfound io.delta#delta-storage;3.2.0 in central\n",
      "\tfound org.antlr#antlr4-runtime;4.9.3 in central\n",
      ":: resolution report :: resolve 1007ms :: artifacts dl 23ms\n",
      "\t:: modules in use:\n",
      "\tcom.amazonaws#aws-java-sdk-bundle;1.12.262 from central in [default]\n",
      "\tcommons-codec#commons-codec;1.17.1 from central in [default]\n",
      "\tcommons-logging#commons-logging;1.2 from central in [default]\n",
      "\tio.delta#delta-spark_2.12;3.2.0 from central in [default]\n",
      "\tio.delta#delta-storage;3.2.0 from central in [default]\n",
      "\tio.netty#netty-buffer;4.1.111.Final from central in [default]\n",
      "\tio.netty#netty-codec;4.1.111.Final from central in [default]\n",
      "\tio.netty#netty-codec-http;4.1.111.Final from central in [default]\n",
      "\tio.netty#netty-codec-http2;4.1.111.Final from central in [default]\n",
      "\tio.netty#netty-common;4.1.111.Final from central in [default]\n",
      "\tio.netty#netty-handler;4.1.111.Final from central in [default]\n",
      "\tio.netty#netty-resolver;4.1.111.Final from central in [default]\n",
      "\tio.netty#netty-transport;4.1.111.Final from central in [default]\n",
      "\tio.netty#netty-transport-classes-epoll;4.1.111.Final from central in [default]\n",
      "\tio.netty#netty-transport-native-unix-common;4.1.111.Final from central in [default]\n",
      "\torg.antlr#antlr4-runtime;4.9.3 from central in [default]\n",
      "\torg.apache.hadoop#hadoop-aws;3.3.4 from central in [default]\n",
      "\torg.apache.httpcomponents#httpclient;4.5.13 from central in [default]\n",
      "\torg.apache.httpcomponents#httpcore;4.4.16 from central in [default]\n",
      "\torg.reactivestreams#reactive-streams;1.0.4 from central in [default]\n",
      "\torg.slf4j#slf4j-api;1.7.36 from central in [default]\n",
      "\torg.wildfly.openssl#wildfly-openssl;1.0.7.Final from central in [default]\n",
      "\tsoftware.amazon.awssdk#annotations;2.26.30 from central in [default]\n",
      "\tsoftware.amazon.awssdk#apache-client;2.26.30 from central in [default]\n",
      "\tsoftware.amazon.awssdk#arns;2.26.30 from central in [default]\n",
      "\tsoftware.amazon.awssdk#auth;2.26.30 from central in [default]\n",
      "\tsoftware.amazon.awssdk#aws-core;2.26.30 from central in [default]\n",
      "\tsoftware.amazon.awssdk#aws-query-protocol;2.26.30 from central in [default]\n",
      "\tsoftware.amazon.awssdk#aws-xml-protocol;2.26.30 from central in [default]\n",
      "\tsoftware.amazon.awssdk#checksums;2.26.30 from central in [default]\n",
      "\tsoftware.amazon.awssdk#checksums-spi;2.26.30 from central in [default]\n",
      "\tsoftware.amazon.awssdk#crt-core;2.26.30 from central in [default]\n",
      "\tsoftware.amazon.awssdk#endpoints-spi;2.26.30 from central in [default]\n",
      "\tsoftware.amazon.awssdk#http-auth;2.26.30 from central in [default]\n",
      "\tsoftware.amazon.awssdk#http-auth-aws;2.26.30 from central in [default]\n",
      "\tsoftware.amazon.awssdk#http-auth-aws-eventstream;2.26.30 from central in [default]\n",
      "\tsoftware.amazon.awssdk#http-auth-spi;2.26.30 from central in [default]\n",
      "\tsoftware.amazon.awssdk#http-client-spi;2.26.30 from central in [default]\n",
      "\tsoftware.amazon.awssdk#identity-spi;2.26.30 from central in [default]\n",
      "\tsoftware.amazon.awssdk#json-utils;2.26.30 from central in [default]\n",
      "\tsoftware.amazon.awssdk#metrics-spi;2.26.30 from central in [default]\n",
      "\tsoftware.amazon.awssdk#netty-nio-client;2.26.30 from central in [default]\n",
      "\tsoftware.amazon.awssdk#profiles;2.26.30 from central in [default]\n",
      "\tsoftware.amazon.awssdk#protocol-core;2.26.30 from central in [default]\n",
      "\tsoftware.amazon.awssdk#regions;2.26.30 from central in [default]\n",
      "\tsoftware.amazon.awssdk#retries;2.26.30 from central in [default]\n",
      "\tsoftware.amazon.awssdk#retries-spi;2.26.30 from central in [default]\n",
      "\tsoftware.amazon.awssdk#s3;2.26.30 from central in [default]\n",
      "\tsoftware.amazon.awssdk#sdk-core;2.26.30 from central in [default]\n",
      "\tsoftware.amazon.awssdk#third-party-jackson-core;2.26.30 from central in [default]\n",
      "\tsoftware.amazon.awssdk#utils;2.26.30 from central in [default]\n",
      "\tsoftware.amazon.eventstream#eventstream;1.0.1 from central in [default]\n",
      "\t---------------------------------------------------------------------\n",
      "\t|                  |            modules            ||   artifacts   |\n",
      "\t|       conf       | number| search|dwnlded|evicted|| number|dwnlded|\n",
      "\t---------------------------------------------------------------------\n",
      "\t|      default     |   52  |   0   |   0   |   0   ||   52  |   0   |\n",
      "\t---------------------------------------------------------------------\n",
      ":: retrieving :: org.apache.spark#spark-submit-parent-d1945472-9484-445b-9c3e-9cd93f365ca8\n",
      "\tconfs: [default]\n",
      "\t0 artifacts copied, 52 already retrieved (0kB/10ms)\n",
      "24/08/13 15:18:09 WARN NativeCodeLoader: Unable to load native-hadoop library for your platform... using builtin-java classes where applicable\n",
      "Setting default log level to \"WARN\".\n",
      "To adjust logging level use sc.setLogLevel(newLevel). For SparkR, use setLogLevel(newLevel).\n"
     ]
    }
   ],
   "source": [
    "spark = SparkSession.builder \\\n",
    "    .appName(\"pyspark-sample\") \\\n",
    "    .config(\"spark.sql.extensions\", \"io.delta.sql.DeltaSparkSessionExtension\") \\\n",
    "    .config(\"spark.sql.catalog.spark_catalog\", \"org.apache.spark.sql.delta.catalog.DeltaCatalog\") \\\n",
    "    .config(\"spark.executor.instances\", \"1\") \\\n",
    "    .config(\"spark.executor.memory\", \"1g\") \\\n",
    "    .getOrCreate()"
   ]
  },
  {
   "cell_type": "code",
   "execution_count": 4,
   "id": "00be7d65-69b0-4d2c-918a-29d596595e43",
   "metadata": {},
   "outputs": [],
   "source": [
    "path = 's3a://raw/datasus/csv/datasus/dbc/*.csv'"
   ]
  },
  {
   "cell_type": "code",
   "execution_count": 5,
   "id": "317b6690-520d-47f3-a75e-44fd3bf88543",
   "metadata": {},
   "outputs": [
    {
     "name": "stderr",
     "output_type": "stream",
     "text": [
      "                                                                                \r"
     ]
    }
   ],
   "source": [
    "df = spark.read.csv(path, header=True, sep=',')"
   ]
  },
  {
   "cell_type": "code",
   "execution_count": 6,
   "id": "f9932907-f3ae-4d71-9700-58f2c10d1db6",
   "metadata": {},
   "outputs": [
    {
     "data": {
      "text/plain": [
       "240636"
      ]
     },
     "execution_count": 6,
     "metadata": {},
     "output_type": "execute_result"
    }
   ],
   "source": [
    "df.count()"
   ]
  },
  {
   "cell_type": "code",
   "execution_count": 7,
   "id": "9b8821d4-3a8a-43c9-acbe-2568d4f29cb3",
   "metadata": {},
   "outputs": [
    {
     "name": "stderr",
     "output_type": "stream",
     "text": [
      "24/08/13 15:18:20 WARN SparkStringUtils: Truncated the string representation of a plan since it was too large. This behavior can be adjusted by setting 'spark.sql.debug.maxToStringFields'.\n"
     ]
    },
    {
     "name": "stdout",
     "output_type": "stream",
     "text": [
      "+------+--------+--------+-----+--------------+-------------+-----+--------+---------+--------+----+----------+----------+----------+----------+---------+----------+----------+----------+----------+---------+----------+----------+----------+--------+-------+--------+------+---------+--------+----------+----------+----------+----------+----------+--------+-------+-------+--------+--------+----------+----------+--------+--------+-------+------+-------+--------+---------+---------+-----+---------+-----+--------+--------+-------+---------+-------+--------+----------+------+---------+----------+----------+---------+------------+--------+------+-----+--------+----------+---------+---------------+---------+-------+--------------+--------+--------+---------+-------+------+-------+-----+--------+-----+---------+--------------------+--------+--------+----------+----------+----------+----------+-------+---------+--------+--------+--------+--------+--------+--------+--------+--------+--------+--------+--------+--------+--------+--------+--------+--------+--------+--------+\n",
      "| UF_ZI|ANO_CMPT|MES_CMPT|ESPEC|      CGC_HOSP|        N_AIH|IDENT|     CEP|MUNIC_RES|    NASC|SEXO|UTI_MES_IN|UTI_MES_AN|UTI_MES_AL|UTI_MES_TO|MARCA_UTI|UTI_INT_IN|UTI_INT_AN|UTI_INT_AL|UTI_INT_TO|DIAR_ACOM|QT_DIARIAS|PROC_SOLIC|  PROC_REA|  VAL_SH| VAL_SP|VAL_SADT|VAL_RN|VAL_ACOMP|VAL_ORTP|VAL_SANGUE|VAL_SADTSR|VAL_TRANSP|VAL_OBSANG|VAL_PED1AC| VAL_TOT|VAL_UTI| US_TOT|DT_INTER|DT_SAIDA|DIAG_PRINC|DIAG_SECUN|COBRANCA|NATUREZA|NAT_JUR|GESTAO|RUBRICA|IND_VDRL|MUNIC_MOV|COD_IDADE|IDADE|DIAS_PERM|MORTE|NACIONAL|NUM_PROC|CAR_INT|TOT_PT_SP|CPF_AUT|HOMONIMO|NUM_FILHOS|INSTRU|CID_NOTIF|CONTRACEP1|CONTRACEP2|GESTRISCO|     INSC_PN|SEQ_AIH5|  CBOR|CNAER|VINCPREV|GESTOR_COD|GESTOR_TP|     GESTOR_CPF|GESTOR_DT|   CNES|     CNPJ_MANT|INFEHOSP|CID_ASSO|CID_MORTE|COMPLEX|FINANC|FAEC_TP|REGCT|RACA_COR|ETNIA|SEQUENCIA|             REMESSA|AUD_JUST|SIS_JUST|VAL_SH_FED|VAL_SP_FED|VAL_SH_GES|VAL_SP_GES|VAL_UCI|MARCA_UCI|DIAGSEC1|DIAGSEC2|DIAGSEC3|DIAGSEC4|DIAGSEC5|DIAGSEC6|DIAGSEC7|DIAGSEC8|DIAGSEC9|TPDISEC1|TPDISEC2|TPDISEC3|TPDISEC4|TPDISEC5|TPDISEC6|TPDISEC7|TPDISEC8|TPDISEC9|\n",
      "+------+--------+--------+-----+--------------+-------------+-----+--------+---------+--------+----+----------+----------+----------+----------+---------+----------+----------+----------+----------+---------+----------+----------+----------+--------+-------+--------+------+---------+--------+----------+----------+----------+----------+----------+--------+-------+-------+--------+--------+----------+----------+--------+--------+-------+------+-------+--------+---------+---------+-----+---------+-----+--------+--------+-------+---------+-------+--------+----------+------+---------+----------+----------+---------+------------+--------+------+-----+--------+----------+---------+---------------+---------+-------+--------------+--------+--------+---------+-------+------+-------+-----+--------+-----+---------+--------------------+--------+--------+----------+----------+----------+----------+-------+---------+--------+--------+--------+--------+--------+--------+--------+--------+--------+--------+--------+--------+--------+--------+--------+--------+--------+--------+\n",
      "|230000|    2024|      04|   02|07954571003987|2324102088759|    1|60010100|   230440|19830610|   3|         0|         0|         0|         0|       00|         0|         0|         0|         0|        3|         3|0411010026|0411010026|  749.59| 447.15|     0.0|   0.0|      0.0|     0.0|       0.0|       0.0|       0.0|       0.0|       0.0| 1196.74|    0.0| 228.38|20240318|20240321|      O249|      0000|      61|      00|   1023|     2|    0.0|       1|   230440|        4| 40.0|      3.0|  0.0|     010|    NULL|     02|      0.0|   NULL|       0|       0.0|     0|     NULL|        00|        00|        1|000000000000|     000|000000|  000|       0|     00000|        1|000041114850306|     NULL|2499363|07954571000104|    NULL|    0000|     0000|     02|    06|   NULL| 0000|      04| 0000|  10389.0|HE23000001N202404...|    NULL|    NULL|       0.0|       0.0|       0.0|       0.0|    0.0|       00|    NULL|    NULL|    NULL|    NULL|    NULL|    NULL|    NULL|    NULL|    NULL|       0|       0|       0|       0|       0|       0|       0|       0|       0|\n",
      "|230000|    2024|      04|   01|          NULL|2324105168760|    1|62800000|   230110|19501117|   1|         0|         0|         0|         6|       75|         0|         0|         0|         0|        0|         1|0403010020|0403010020| 4294.84| 931.86|     0.0|   0.0|      0.0|     0.0|       0.0|       0.0|       0.0|       0.0|       0.0|  5226.7| 3600.0| 997.46|20240402|20240408|      I638|      0000|      41|      00|   1023|     2|    0.0|       0|   231140|        4| 73.0|      6.0|  1.0|     010|    NULL|     02|      0.0|   NULL|       0|       0.0|     0|     NULL|        00|        00|        1|000000000000|     000|000000|  000|       0|     00014|        1|000004619339342|     NULL|7061021|07954571000104|    NULL|    0000|     0000|     02|    06|   NULL| 0000|      03| 0000|  14196.0|HE23000001N202404...|    NULL|    NULL|       0.0|       0.0|       0.0|       0.0|    0.0|       00|    J189|    NULL|    NULL|    NULL|    NULL|    NULL|    NULL|    NULL|    NULL|       2|       0|       0|       0|       0|       0|       0|       0|       0|\n",
      "|230000|    2024|      04|   01|          NULL|2324105168770|    1|62600000|   230630|19670907|   3|         0|         0|         0|         1|       75|         0|         0|         0|         0|        2|         9|0415010012|0415010012| 2413.38| 743.39|     0.0|   0.0|      0.0|     0.0|       0.0|       0.0|       0.0|       0.0|       0.0| 3156.77|  600.0| 602.43|20240316|20240326|      S820|      0000|      12|      00|   1023|     2|    0.0|       0|   231140|        4| 56.0|     10.0|  0.0|     010|    NULL|     01|      0.0|   NULL|       0|       0.0|     0|     NULL|        00|        00|        1|000000000000|     000|000000|  000|       0|     00000|        0|000000000000000|     NULL|7061021|07954571000104|    NULL|    0000|     0000|     02|    06|   NULL| 0000|      03| 0000|  14197.0|HE23000001N202404...|    NULL|    NULL|       0.0|       0.0|       0.0|       0.0|    0.0|       00|    Y344|    NULL|    NULL|    NULL|    NULL|    NULL|    NULL|    NULL|    NULL|       2|       0|       0|       0|       0|       0|       0|       0|       0|\n",
      "|230000|    2024|      04|   01|          NULL|2324105179649|    1|63600000|   231270|19580619|   3|         0|         0|         0|        15|       75|         0|         0|         0|         0|        0|         1|0404010377|0404010377|14960.72|1525.66|     0.0|   0.0|      0.0|     0.0|       0.0|       0.0|       0.0|       0.0|       0.0|16486.38| 9000.0|3146.25|20240317|20240401|      J960|      0000|      21|      00|   1023|     2|    0.0|       0|   231140|        4| 65.0|     15.0|  0.0|     010|    NULL|     01|      0.0|   NULL|       0|       0.0|     0|     NULL|        00|        00|        1|000000000000|     000|000000|  000|       0|     00014|        1|000004619339342|     NULL|7061021|07954571000104|    NULL|    0000|     0000|     02|    06|   NULL| 0000|      03| 0000|  14303.0|HE23000001N202404...|    NULL|    NULL|       0.0|       0.0|       0.0|       0.0|    0.0|       00|    NULL|    NULL|    NULL|    NULL|    NULL|    NULL|    NULL|    NULL|    NULL|       0|       0|       0|       0|       0|       0|       0|       0|       0|\n",
      "|230000|    2024|      04|   01|          NULL|2324105179682|    1|63600000|   231270|19690712|   3|         0|         0|         0|         0|       00|         0|         0|         0|         0|        0|         4|0415010012|0415010012|  258.16| 174.29|     0.0|   0.0|      0.0|     0.0|       0.0|       0.0|       0.0|       0.0|       0.0|  432.45|    0.0|  82.52|20240330|20240403|      S925|      0000|      12|      00|   1023|     2|    0.0|       0|   231140|        4| 54.0|      4.0|  0.0|     010|    NULL|     01|      0.0|   NULL|       0|       0.0|     0|     NULL|        00|        00|        1|000000000000|     000|000000|  000|       0|     00000|        0|000000000000000|     NULL|7061021|07954571000104|    NULL|    0000|     0000|     02|    06|   NULL| 0000|      03| 0000|  14304.0|HE23000001N202404...|    NULL|    NULL|       0.0|       0.0|       0.0|       0.0|    0.0|       00|    Y344|    NULL|    NULL|    NULL|    NULL|    NULL|    NULL|    NULL|    NULL|       2|       0|       0|       0|       0|       0|       0|       0|       0|\n",
      "+------+--------+--------+-----+--------------+-------------+-----+--------+---------+--------+----+----------+----------+----------+----------+---------+----------+----------+----------+----------+---------+----------+----------+----------+--------+-------+--------+------+---------+--------+----------+----------+----------+----------+----------+--------+-------+-------+--------+--------+----------+----------+--------+--------+-------+------+-------+--------+---------+---------+-----+---------+-----+--------+--------+-------+---------+-------+--------+----------+------+---------+----------+----------+---------+------------+--------+------+-----+--------+----------+---------+---------------+---------+-------+--------------+--------+--------+---------+-------+------+-------+-----+--------+-----+---------+--------------------+--------+--------+----------+----------+----------+----------+-------+---------+--------+--------+--------+--------+--------+--------+--------+--------+--------+--------+--------+--------+--------+--------+--------+--------+--------+--------+\n",
      "only showing top 5 rows\n",
      "\n"
     ]
    }
   ],
   "source": [
    "df.show(5)"
   ]
  },
  {
   "cell_type": "code",
   "execution_count": 8,
   "id": "acaf60fc-977b-4f95-a1e7-f83291d0250d",
   "metadata": {},
   "outputs": [
    {
     "data": {
      "text/plain": [
       "['UF_ZI',\n",
       " 'ANO_CMPT',\n",
       " 'MES_CMPT',\n",
       " 'ESPEC',\n",
       " 'CGC_HOSP',\n",
       " 'N_AIH',\n",
       " 'IDENT',\n",
       " 'CEP',\n",
       " 'MUNIC_RES',\n",
       " 'NASC',\n",
       " 'SEXO',\n",
       " 'UTI_MES_IN',\n",
       " 'UTI_MES_AN',\n",
       " 'UTI_MES_AL',\n",
       " 'UTI_MES_TO',\n",
       " 'MARCA_UTI',\n",
       " 'UTI_INT_IN',\n",
       " 'UTI_INT_AN',\n",
       " 'UTI_INT_AL',\n",
       " 'UTI_INT_TO',\n",
       " 'DIAR_ACOM',\n",
       " 'QT_DIARIAS',\n",
       " 'PROC_SOLIC',\n",
       " 'PROC_REA',\n",
       " 'VAL_SH',\n",
       " 'VAL_SP',\n",
       " 'VAL_SADT',\n",
       " 'VAL_RN',\n",
       " 'VAL_ACOMP',\n",
       " 'VAL_ORTP',\n",
       " 'VAL_SANGUE',\n",
       " 'VAL_SADTSR',\n",
       " 'VAL_TRANSP',\n",
       " 'VAL_OBSANG',\n",
       " 'VAL_PED1AC',\n",
       " 'VAL_TOT',\n",
       " 'VAL_UTI',\n",
       " 'US_TOT',\n",
       " 'DT_INTER',\n",
       " 'DT_SAIDA',\n",
       " 'DIAG_PRINC',\n",
       " 'DIAG_SECUN',\n",
       " 'COBRANCA',\n",
       " 'NATUREZA',\n",
       " 'NAT_JUR',\n",
       " 'GESTAO',\n",
       " 'RUBRICA',\n",
       " 'IND_VDRL',\n",
       " 'MUNIC_MOV',\n",
       " 'COD_IDADE',\n",
       " 'IDADE',\n",
       " 'DIAS_PERM',\n",
       " 'MORTE',\n",
       " 'NACIONAL',\n",
       " 'NUM_PROC',\n",
       " 'CAR_INT',\n",
       " 'TOT_PT_SP',\n",
       " 'CPF_AUT',\n",
       " 'HOMONIMO',\n",
       " 'NUM_FILHOS',\n",
       " 'INSTRU',\n",
       " 'CID_NOTIF',\n",
       " 'CONTRACEP1',\n",
       " 'CONTRACEP2',\n",
       " 'GESTRISCO',\n",
       " 'INSC_PN',\n",
       " 'SEQ_AIH5',\n",
       " 'CBOR',\n",
       " 'CNAER',\n",
       " 'VINCPREV',\n",
       " 'GESTOR_COD',\n",
       " 'GESTOR_TP',\n",
       " 'GESTOR_CPF',\n",
       " 'GESTOR_DT',\n",
       " 'CNES',\n",
       " 'CNPJ_MANT',\n",
       " 'INFEHOSP',\n",
       " 'CID_ASSO',\n",
       " 'CID_MORTE',\n",
       " 'COMPLEX',\n",
       " 'FINANC',\n",
       " 'FAEC_TP',\n",
       " 'REGCT',\n",
       " 'RACA_COR',\n",
       " 'ETNIA',\n",
       " 'SEQUENCIA',\n",
       " 'REMESSA',\n",
       " 'AUD_JUST',\n",
       " 'SIS_JUST',\n",
       " 'VAL_SH_FED',\n",
       " 'VAL_SP_FED',\n",
       " 'VAL_SH_GES',\n",
       " 'VAL_SP_GES',\n",
       " 'VAL_UCI',\n",
       " 'MARCA_UCI',\n",
       " 'DIAGSEC1',\n",
       " 'DIAGSEC2',\n",
       " 'DIAGSEC3',\n",
       " 'DIAGSEC4',\n",
       " 'DIAGSEC5',\n",
       " 'DIAGSEC6',\n",
       " 'DIAGSEC7',\n",
       " 'DIAGSEC8',\n",
       " 'DIAGSEC9',\n",
       " 'TPDISEC1',\n",
       " 'TPDISEC2',\n",
       " 'TPDISEC3',\n",
       " 'TPDISEC4',\n",
       " 'TPDISEC5',\n",
       " 'TPDISEC6',\n",
       " 'TPDISEC7',\n",
       " 'TPDISEC8',\n",
       " 'TPDISEC9']"
      ]
     },
     "execution_count": 8,
     "metadata": {},
     "output_type": "execute_result"
    }
   ],
   "source": [
    "df.columns"
   ]
  },
  {
   "cell_type": "code",
   "execution_count": 10,
   "id": "a34a93fa-4e4b-4636-b9b1-901775efb32a",
   "metadata": {},
   "outputs": [],
   "source": [
    "df.createOrReplaceTempView('tab_sus')"
   ]
  },
  {
   "cell_type": "code",
   "execution_count": 17,
   "id": "e2392b6a-08fd-4a1c-92bb-7b9f91e624f4",
   "metadata": {},
   "outputs": [
    {
     "name": "stdout",
     "output_type": "stream",
     "text": [
      "+--------+---------------------+\n",
      "|count(1)|count(DISTINCT N_AIH)|\n",
      "+--------+---------------------+\n",
      "|  240636|               238970|\n",
      "+--------+---------------------+\n",
      "\n"
     ]
    }
   ],
   "source": [
    "spark.sql(\"\"\"\n",
    "    SELECT COUNT(*),\n",
    "        count(distinct N_AIH)\n",
    "    FROM tab_sus\n",
    "\"\"\").show()"
   ]
  },
  {
   "cell_type": "code",
   "execution_count": 24,
   "id": "c0b8b19a-d53a-4904-8a5b-42e83fdffc79",
   "metadata": {},
   "outputs": [
    {
     "name": "stdout",
     "output_type": "stream",
     "text": [
      "+--------+-------------+\n",
      "|count(1)|        N_AIH|\n",
      "+--------+-------------+\n",
      "|       5|2324101794883|\n",
      "|       5|2323106756124|\n",
      "|       5|2324101826541|\n",
      "|       5|2323109259383|\n",
      "|       5|2322107532789|\n",
      "+--------+-------------+\n",
      "only showing top 5 rows\n",
      "\n"
     ]
    }
   ],
   "source": [
    "spark.sql(\"\"\"\n",
    "    SELECT COUNT(*),N_AIH\n",
    "    FROM tab_sus\n",
    "    GROUP BY 2\n",
    "    ORDER BY 1 DESC\n",
    "\"\"\").show(5)"
   ]
  },
  {
   "cell_type": "code",
   "execution_count": 48,
   "id": "79d4649f-a33d-4969-a5f7-30bfd43761dc",
   "metadata": {},
   "outputs": [
    {
     "data": {
      "text/plain": [
       "DataFrame[]"
      ]
     },
     "execution_count": 48,
     "metadata": {},
     "output_type": "execute_result"
    }
   ],
   "source": [
    "spark.sql(f\"CREATE DATABASE bronze_datasus LOCATION 's3a://bronze/datasus'\")"
   ]
  },
  {
   "cell_type": "code",
   "execution_count": 49,
   "id": "c28508d8-40bf-4c33-ad4d-ed8b86216f18",
   "metadata": {},
   "outputs": [],
   "source": [
    "spark.catalog.setCurrentDatabase(f'bronze_datasus')"
   ]
  },
  {
   "cell_type": "code",
   "execution_count": 50,
   "id": "9cf770b5-fcf0-4c59-8daa-070ba8ccd3e5",
   "metadata": {},
   "outputs": [
    {
     "data": {
      "text/plain": [
       "[Database(name='bronze_datasus', catalog='spark_catalog', description='', locationUri='s3a://bronze/datasus'),\n",
       " Database(name='default', catalog='spark_catalog', description='default database', locationUri='file:/root/.jupyter/workspace/spark-warehouse')]"
      ]
     },
     "execution_count": 50,
     "metadata": {},
     "output_type": "execute_result"
    }
   ],
   "source": [
    "spark.catalog.listDatabases()"
   ]
  },
  {
   "cell_type": "code",
   "execution_count": 52,
   "id": "50ecb5d5-bc38-4f0a-9cb3-05443fa25c8e",
   "metadata": {},
   "outputs": [
    {
     "data": {
      "text/plain": [
       "'bronze_datasus'"
      ]
     },
     "execution_count": 52,
     "metadata": {},
     "output_type": "execute_result"
    }
   ],
   "source": [
    "spark.catalog.currentDatabase()"
   ]
  },
  {
   "cell_type": "code",
   "execution_count": 53,
   "id": "901a5794-5cf6-4f5c-a468-10c03d30fc02",
   "metadata": {},
   "outputs": [
    {
     "name": "stderr",
     "output_type": "stream",
     "text": [
      "                                                                                \r"
     ]
    }
   ],
   "source": [
    "df.write.format('delta').mode('overwrite').saveAsTable('bronze_datasus')"
   ]
  }
 ],
 "metadata": {
  "kernelspec": {
   "display_name": "Python 3 (ipykernel)",
   "language": "python",
   "name": "python3"
  },
  "language_info": {
   "codemirror_mode": {
    "name": "ipython",
    "version": 3
   },
   "file_extension": ".py",
   "mimetype": "text/x-python",
   "name": "python",
   "nbconvert_exporter": "python",
   "pygments_lexer": "ipython3",
   "version": "3.11.8"
  }
 },
 "nbformat": 4,
 "nbformat_minor": 5
}
